{
  "nbformat": 4,
  "nbformat_minor": 0,
  "metadata": {
    "colab": {
      "provenance": [],
      "authorship_tag": "ABX9TyP2D2gBMUZHssVTIO3xUYop",
      "include_colab_link": true
    },
    "kernelspec": {
      "name": "python3",
      "display_name": "Python 3"
    },
    "language_info": {
      "name": "python"
    }
  },
  "cells": [
    {
      "cell_type": "markdown",
      "metadata": {
        "id": "view-in-github",
        "colab_type": "text"
      },
      "source": [
        "<a href=\"https://colab.research.google.com/github/CarlosCordova2023/Clase01_PythonIntermedio/blob/main/Clase01_PythonIntermedio.ipynb\" target=\"_parent\"><img src=\"https://colab.research.google.com/assets/colab-badge.svg\" alt=\"Open In Colab\"/></a>"
      ]
    },
    {
      "cell_type": "code",
      "execution_count": 2,
      "metadata": {
        "colab": {
          "base_uri": "https://localhost:8080/"
        },
        "id": "cVKoYqcymF1L",
        "outputId": "eec4a494-115e-4415-ab3d-c567e7a99a53"
      },
      "outputs": [
        {
          "output_type": "stream",
          "name": "stdout",
          "text": [
            "El número más grande es: 11\n"
          ]
        }
      ],
      "source": [
        "numeros = [3, 5, 7, 2, 8, 10, 11]\n",
        "maximo = numeros[0]\n",
        "\n",
        "for numero in numeros:\n",
        "    if numero > maximo:\n",
        "        maximo = numero\n",
        "\n",
        "print(f\"El número más grande es: {maximo}\")\n"
      ]
    },
    {
      "cell_type": "code",
      "source": [
        "# Ejemplo de tipos de datos\n",
        "edad = 25  # int\n",
        "altura = 1.75  # float\n",
        "nombre = \"Carlos\"  # str\n",
        "es_estudiante = True  # bool\n",
        "\n",
        "# Expresiones\n",
        "resultado = edad + 5\n",
        "division_entera = 10 // 3\n",
        "potencia = 2 ** 3\n",
        "\n",
        "print(f\"Resultado: {resultado}, División entera: {division_entera}, Potencia: {potencia}\")\n"
      ],
      "metadata": {
        "colab": {
          "base_uri": "https://localhost:8080/"
        },
        "id": "95wpzYZtqTXb",
        "outputId": "02585445-cb94-46e1-d3e5-cecb8df36389"
      },
      "execution_count": 3,
      "outputs": [
        {
          "output_type": "stream",
          "name": "stdout",
          "text": [
            "Resultado: 30, División entera: 3, Potencia: 8\n"
          ]
        }
      ]
    },
    {
      "cell_type": "code",
      "source": [
        "# Ejercicio 1\n",
        "nombre = \"Carlos\"\n",
        "edad = 30\n",
        "altura = 1.75\n",
        "print(f\"Me llamo {nombre}, tengo {edad} años y mido {altura} metros.\")\n",
        "\n",
        "# Ejercicio 2\n",
        "radio = float(input(\"Ingrese el radio del círculo: \"))\n",
        "pi = 3.14159\n",
        "area = pi * (radio ** 2)\n",
        "print(f\"El área del círculo es: {area}\")\n"
      ],
      "metadata": {
        "colab": {
          "base_uri": "https://localhost:8080/"
        },
        "id": "_ExQa6VSq7oW",
        "outputId": "bba3ff46-fa63-44a2-cef2-495254473493"
      },
      "execution_count": 4,
      "outputs": [
        {
          "output_type": "stream",
          "name": "stdout",
          "text": [
            "Me llamo Carlos, tengo 30 años y mido 1.75 metros.\n",
            "Ingrese el radio del círculo: 2\n",
            "El área del círculo es: 12.56636\n"
          ]
        }
      ]
    },
    {
      "cell_type": "code",
      "source": [
        "a = 10\n",
        "b = 3\n",
        "\n",
        "# Operadores aritméticos\n",
        "suma = a + b\n",
        "multiplicacion = a * b\n",
        "modulo = a % b\n",
        "\n",
        "# Operadores de comparación\n",
        "es_igual = a == b\n",
        "mayor = a > b\n",
        "\n",
        "# Operadores lógicos\n",
        "es_mayor_y_par = (a > b) and (a % 2 == 0)\n",
        "\n",
        "print(f\"Suma: {suma}, Multiplicación: {multiplicacion}, Módulo: {modulo}\")\n",
        "print(f\"Es igual: {es_igual}, Mayor que: {mayor}, Es mayor y par: {es_mayor_y_par}\")\n"
      ],
      "metadata": {
        "colab": {
          "base_uri": "https://localhost:8080/"
        },
        "id": "kZG8b8jertlv",
        "outputId": "3ae3c2ff-8881-4398-c032-e4d3a967b3d9"
      },
      "execution_count": 5,
      "outputs": [
        {
          "output_type": "stream",
          "name": "stdout",
          "text": [
            "Suma: 13, Multiplicación: 30, Módulo: 1\n",
            "Es igual: False, Mayor que: True, Es mayor y par: True\n"
          ]
        }
      ]
    },
    {
      "cell_type": "code",
      "source": [
        "# Ejercicio 1\n",
        "num1 = float(input(\"Ingrese el primer número: \"))\n",
        "num2 = float(input(\"Ingrese el segundo número: \"))\n",
        "\n",
        "print(f\"Suma: {num1 + num2}\")\n",
        "print(f\"Resta: {num1 - num2}\")\n",
        "print(f\"Multiplicación: {num1 * num2}\")\n",
        "print(f\"División: {num1 / num2}\")\n",
        "\n",
        "# Ejercicio 2\n",
        "edad = int(input(\"Ingrese su edad: \"))\n",
        "if edad >= 18:\n",
        "    print(\"Eres mayor de edad.\")\n",
        "else:\n",
        "    print(\"Eres menor de edad.\")\n"
      ],
      "metadata": {
        "colab": {
          "base_uri": "https://localhost:8080/"
        },
        "id": "QySPlya4tHqB",
        "outputId": "bb25ab14-a7b4-47bf-b9b7-da789bd7e085"
      },
      "execution_count": 9,
      "outputs": [
        {
          "output_type": "stream",
          "name": "stdout",
          "text": [
            "Ingrese el primer número: 0.9\n",
            "Ingrese el segundo número: 8.9\n",
            "Suma: 9.8\n",
            "Resta: -8.0\n",
            "Multiplicación: 8.01\n",
            "División: 0.10112359550561797\n",
            "Ingrese su edad: 7\n",
            "Eres menor de edad.\n"
          ]
        }
      ]
    },
    {
      "cell_type": "code",
      "source": [
        "nombre = input(\"Ingrese su nombre: \")\n",
        "edad = int(input(\"Ingrese su edad: \"))  # Conversión a entero\n",
        "altura = float(input(\"Ingrese su altura: \"))  # Conversión a flotante\n"
      ],
      "metadata": {
        "colab": {
          "base_uri": "https://localhost:8080/"
        },
        "id": "WndDVn2huVJG",
        "outputId": "4ca983ee-a35d-4509-b06c-1dfcbe141fba"
      },
      "execution_count": 10,
      "outputs": [
        {
          "name": "stdout",
          "output_type": "stream",
          "text": [
            "Ingrese su nombre: Carlos\n",
            "Ingrese su edad: 45\n",
            "Ingrese su altura: 1.98\n"
          ]
        }
      ]
    },
    {
      "cell_type": "code",
      "source": [
        "print(f\"Hola, {nombre}. Tienes {edad} años y mides {altura} metros.\")\n"
      ],
      "metadata": {
        "colab": {
          "base_uri": "https://localhost:8080/"
        },
        "id": "GXfZtISyubpi",
        "outputId": "413edd45-c3e6-42f6-f48a-d37d71daf358"
      },
      "execution_count": 11,
      "outputs": [
        {
          "output_type": "stream",
          "name": "stdout",
          "text": [
            "Hola, Carlos. Tienes 45 años y mides 1.98 metros.\n"
          ]
        }
      ]
    },
    {
      "cell_type": "code",
      "source": [
        "nombre = input(\"Ingrese su nombre: \")\n",
        "edad = int(input(\"Ingrese su edad: \"))\n",
        "altura = float(input(\"Ingrese su altura: \"))\n",
        "\n",
        "print(f\"Hola, {nombre}. Tienes {edad} años y mides {altura} metros.\")\n"
      ],
      "metadata": {
        "colab": {
          "base_uri": "https://localhost:8080/"
        },
        "id": "5cgNVlrXugEy",
        "outputId": "d71c2978-ed0a-4980-ed17-d7ef07ef3b04"
      },
      "execution_count": 12,
      "outputs": [
        {
          "output_type": "stream",
          "name": "stdout",
          "text": [
            "Ingrese su nombre: Cha\n",
            "Ingrese su edad: 44\n",
            "Ingrese su altura: 4.9\n",
            "Hola, Cha. Tienes 44 años y mides 4.9 metros.\n"
          ]
        }
      ]
    },
    {
      "cell_type": "code",
      "source": [
        "# Solicitar dos números al usuario\n",
        "numero1 = float(input(\"Introduce el primer número: \"))\n",
        "numero2 = float(input(\"Introduce el segundo número: \"))\n",
        "\n",
        "# Realizar las operaciones matemáticas básicas\n",
        "suma = numero1 + numero2\n",
        "resta = numero1 - numero2\n",
        "multiplicacion = numero1 * numero2\n",
        "division = numero1 / numero2 if numero2 != 0 else \"Indefinido (división por cero)\"\n",
        "\n",
        "# Mostrar los resultados\n",
        "print(f\"Suma: {suma}\")\n",
        "print(f\"Resta: {resta}\")\n",
        "print(f\"Multiplicación: {multiplicacion}\")\n",
        "print(f\"División: {division}\")\n"
      ],
      "metadata": {
        "colab": {
          "base_uri": "https://localhost:8080/"
        },
        "id": "ECtkA_9Xw2N7",
        "outputId": "527085bc-575f-4269-e80d-3bf710d47cc8"
      },
      "execution_count": 15,
      "outputs": [
        {
          "output_type": "stream",
          "name": "stdout",
          "text": [
            "Introduce el primer número: 2\n",
            "Introduce el segundo número: 0\n",
            "Suma: 2.0\n",
            "Resta: 2.0\n",
            "Multiplicación: 0.0\n",
            "División: Indefinido (división por cero)\n"
          ]
        }
      ]
    },
    {
      "cell_type": "code",
      "source": [
        "import math\n",
        "\n",
        "# Solicitar el radio del círculo al usuario\n",
        "radio = float(input(\"Introduce el radio del círculo: \"))\n",
        "\n",
        "# Calcular el área del círculo\n",
        "area = math.pi * (radio ** 2)\n",
        "\n",
        "# Mostrar el resultado\n",
        "print(f\"El área del círculo con radio {radio} es: {area}\")"
      ],
      "metadata": {
        "colab": {
          "base_uri": "https://localhost:8080/"
        },
        "id": "hT6PWHAqw-L6",
        "outputId": "f0726e71-9512-42dd-ace2-9914e2b2132c"
      },
      "execution_count": 14,
      "outputs": [
        {
          "output_type": "stream",
          "name": "stdout",
          "text": [
            "Introduce el radio del círculo: 5\n",
            "El área del círculo con radio 5.0 es: 78.53981633974483\n"
          ]
        }
      ]
    }
  ]
}